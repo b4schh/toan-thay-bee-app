{
 "cells": [
  {
   "cell_type": "markdown",
   "metadata": {},
   "source": []
  },
  {
   "cell_type": "markdown",
   "metadata": {},
   "source": [
    "$\\sqrt{x^2 + y^2}$"
   ]
  },
  {
   "cell_type": "markdown",
   "metadata": {},
   "source": [
    " $\\left\\{\\begin{array}{l}x=6+3 t \\\\ y=20+8 t,(t \\in \\mathbb{R}) \\text {. } \\\\ z=-4 t\\end{array}\\right.$"
   ]
  }
 ],
 "metadata": {
  "language_info": {
   "name": "python"
  }
 },
 "nbformat": 4,
 "nbformat_minor": 2
}
