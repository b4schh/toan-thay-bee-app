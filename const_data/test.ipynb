{
 "cells": [
  {
   "cell_type": "markdown",
   "metadata": {},
   "source": []
  },
  {
   "cell_type": "markdown",
   "metadata": {},
   "source": [
    "$M_1$\n",
    "\\begin{array}{|c|c|c|c|c|c|}\n",
    "\\hline\n",
    "\\text{Nhóm} & [8;10) & [10;12) & [12;14) & [14;16) & [16;18) \\\\\n",
    "\\hline\n",
    "\\text{Tần số} & 3 & 4 & 8 & 6 & 4 \\\\\n",
    "\\hline\n",
    "\\end{array}\n",
    "\n",
    "\n",
    "$M_2$\n",
    "\\begin{array}{|c|c|c|c|c|c|}\n",
    "\\hline\n",
    "\\text{Nhóm} & [8;10) & [10;12) & [12;14) & [14;16) & [16;18) \\\\\n",
    "\\hline\n",
    "\\text{Tần số} & 6 & 8 & 16 & 12 & 8 \\\\\n",
    "\\hline\n",
    "\\end{array}\n"
   ]
  }
 ],
 "metadata": {
  "language_info": {
   "name": "python"
  }
 },
 "nbformat": 4,
 "nbformat_minor": 2
}
